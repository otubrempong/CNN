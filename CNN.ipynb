{
 "cells": [
  {
   "cell_type": "code",
   "execution_count": 1,
   "id": "67e2ed62",
   "metadata": {},
   "outputs": [],
   "source": [
    "import numpy as np \n",
    "import pandas as pd\n",
    "import matplotlib.pyplot as plt\n",
    "%matplotlib inline\n",
    "import matplotlib as mpl"
   ]
  },
  {
   "cell_type": "code",
   "execution_count": 2,
   "id": "01a8ee63",
   "metadata": {},
   "outputs": [],
   "source": [
    "import tensorflow as tf\n",
    "from tensorflow import keras"
   ]
  },
  {
   "cell_type": "code",
   "execution_count": 3,
   "id": "bec27987",
   "metadata": {},
   "outputs": [],
   "source": [
    "fashion_mnist = keras.datasets.fashion_mnist"
   ]
  },
  {
   "cell_type": "code",
   "execution_count": 4,
   "id": "c80c4bf5",
   "metadata": {},
   "outputs": [],
   "source": [
    "(x_train_full,y_train_full),(x_test,y_test) = fashion_mnist.load_data()"
   ]
  },
  {
   "cell_type": "code",
   "execution_count": 5,
   "id": "dc8029c7",
   "metadata": {},
   "outputs": [
    {
     "data": {
      "text/plain": [
       "(60000, 28, 28)"
      ]
     },
     "execution_count": 5,
     "metadata": {},
     "output_type": "execute_result"
    }
   ],
   "source": [
    "x_train_full.shape"
   ]
  },
  {
   "cell_type": "code",
   "execution_count": 6,
   "id": "c3d2a86f",
   "metadata": {},
   "outputs": [
    {
     "data": {
      "text/plain": [
       "(10000, 28, 28)"
      ]
     },
     "execution_count": 6,
     "metadata": {},
     "output_type": "execute_result"
    }
   ],
   "source": [
    "x_test.shape"
   ]
  },
  {
   "cell_type": "code",
   "execution_count": 7,
   "id": "5bcbc64e",
   "metadata": {},
   "outputs": [],
   "source": [
    "x_train_full = x_train_full.reshape((60000,28,28,1))"
   ]
  },
  {
   "cell_type": "code",
   "execution_count": 8,
   "id": "c770b790",
   "metadata": {},
   "outputs": [],
   "source": [
    "x_test_full = x_test.reshape((10000,28,28,1))"
   ]
  },
  {
   "cell_type": "code",
   "execution_count": 9,
   "id": "87d1110d",
   "metadata": {},
   "outputs": [],
   "source": [
    "x_train_n = x_train_full/255.\n",
    "x_test_n = x_test/255."
   ]
  },
  {
   "cell_type": "code",
   "execution_count": 27,
   "id": "a5b013cb",
   "metadata": {},
   "outputs": [],
   "source": [
    "x_valid,x_train = x_train_n[:5000],x_train_n[5000:]\n",
    "y_valid,y_train = y_train_full[:5000],y_train_full[5000:]"
   ]
  },
  {
   "cell_type": "code",
   "execution_count": 28,
   "id": "5590b573",
   "metadata": {},
   "outputs": [],
   "source": [
    "class_names = [\"T-shirt/top\",\"Trouser\",\"Pullover\",\"Dress\",\"Coat\",\n",
    "               \"Sandal\",\"Shirt\",\"Sneaker\",\"Bag\",\"Ankle boot\"]"
   ]
  },
  {
   "cell_type": "code",
   "execution_count": 29,
   "id": "4fb8ec0b",
   "metadata": {},
   "outputs": [
    {
     "data": {
      "text/plain": [
       "'Ankle boot'"
      ]
     },
     "execution_count": 29,
     "metadata": {},
     "output_type": "execute_result"
    }
   ],
   "source": [
    "class_names[y_train_full[0]]"
   ]
  },
  {
   "cell_type": "code",
   "execution_count": 30,
   "id": "40f9995f",
   "metadata": {},
   "outputs": [
    {
     "data": {
      "text/plain": [
       "<matplotlib.image.AxesImage at 0x214f64ba5b0>"
      ]
     },
     "execution_count": 30,
     "metadata": {},
     "output_type": "execute_result"
    },
    {
     "data": {
      "image/png": "[encoded data removed]",
      "text/plain": [
       "<Figure size 640x480 with 1 Axes>"
      ]
     },
     "metadata": {},
     "output_type": "display_data"
    }
   ],
   "source": [
    "plt.imshow(x_train_full[0])"
   ]
  },
  {
   "cell_type": "code",
   "execution_count": 17,
   "id": "6fc92ef9",
   "metadata": {},
   "outputs": [],
   "source": [
    "np.random.seed(42)\n",
    "tf.random.set_seed(42)"
   ]
  },
  {
   "cell_type": "code",
   "execution_count": 19,
   "id": "1e5eee7e",
   "metadata": {},
   "outputs": [],
   "source": [
    "model = keras.models.Sequential()"
   ]
  },
  {
   "cell_type": "code",
   "execution_count": 22,
   "id": "a098b2a9",
   "metadata": {},
   "outputs": [
    {
     "name": "stdout",
     "output_type": "stream",
     "text": [
      "Model: \"sequential\"\n",
      "_________________________________________________________________\n",
      " Layer (type)                Output Shape              Param #   \n",
      "=================================================================\n",
      " conv2d (Conv2D)             (None, 26, 26, 32)        320       \n",
      "                                                                 \n",
      " max_pooling2d (MaxPooling2D  (None, 13, 13, 32)       0         \n",
      " )                                                               \n",
      "                                                                 \n",
      " flatten (Flatten)           (None, 5408)              0         \n",
      "                                                                 \n",
      " dense (Dense)               (None, 300)               1622700   \n",
      "                                                                 \n",
      " dense_1 (Dense)             (None, 100)               30100     \n",
      "                                                                 \n",
      " dense_2 (Dense)             (None, 10)                1010      \n",
      "                                                                 \n",
      "=================================================================\n",
      "Total params: 1,654,130\n",
      "Trainable params: 1,654,130\n",
      "Non-trainable params: 0\n",
      "_________________________________________________________________\n"
     ]
    }
   ],
   "source": [
    "model.add(keras.layers.Conv2D(filters=32,kernel_size=(3,3),strides=1,padding='valid',activation='relu',input_shape=(28,28,1)))\n",
    "model.add(keras.layers.MaxPooling2D(2,2))\n",
    "\n",
    "model.add(keras.layers.Flatten())\n",
    "model.add(keras.layers.Dense(300,activation='relu'))\n",
    "model.add(keras.layers.Dense(100,activation='relu'))\n",
    "model.add(keras.layers.Dense(10,activation='softmax'))\n",
    "\n",
    "model.summary()"
   ]
  },
  {
   "cell_type": "code",
   "execution_count": 23,
   "id": "6dc8ff41",
   "metadata": {},
   "outputs": [
    {
     "data": {
      "image/png": "[encoded data removed]",
      "text/plain": [
       "<IPython.core.display.Image object>"
      ]
     },
     "execution_count": 23,
     "metadata": {},
     "output_type": "execute_result"
    }
   ],
   "source": [
    "keras.utils.plot_model(model)"
   ]
  },
  {
   "cell_type": "code",
   "execution_count": 24,
   "id": "1817accd",
   "metadata": {},
   "outputs": [],
   "source": [
    "model.compile(loss = 'sparse_categorical_crossentropy',optimizer = 'sgd',metrics = ['accuracy'])"
   ]
  },
  {
   "cell_type": "code",
   "execution_count": 25,
   "id": "c05157a2",
   "metadata": {},
   "outputs": [],
   "source": [
    "early_stopping_cb  = keras.callbacks.EarlyStopping(patience = 5, restore_best_weights = True)"
   ]
  },
  {
   "cell_type": "code",
   "execution_count": 31,
   "id": "b0bdbb22",
   "metadata": {},
   "outputs": [
    {
     "name": "stdout",
     "output_type": "stream",
     "text": [
      "Epoch 1/50\n",
      "860/860 [==============================] - 61s 66ms/step - loss: 0.8344 - accuracy: 0.7129 - val_loss: 0.7738 - val_accuracy: 0.7168\n",
      "Epoch 2/50\n",
      "860/860 [==============================] - 53s 62ms/step - loss: 0.5402 - accuracy: 0.8047 - val_loss: 0.4968 - val_accuracy: 0.8098\n",
      "Epoch 3/50\n",
      "860/860 [==============================] - 58s 68ms/step - loss: 0.4853 - accuracy: 0.8245 - val_loss: 0.9098 - val_accuracy: 0.6996\n",
      "Epoch 4/50\n",
      "860/860 [==============================] - 63s 73ms/step - loss: 0.4491 - accuracy: 0.8398 - val_loss: 0.4123 - val_accuracy: 0.8608\n",
      "Epoch 5/50\n",
      "860/860 [==============================] - 67s 77ms/step - loss: 0.4258 - accuracy: 0.8478 - val_loss: 0.4351 - val_accuracy: 0.8470\n",
      "Epoch 6/50\n",
      "860/860 [==============================] - 67s 78ms/step - loss: 0.4016 - accuracy: 0.8575 - val_loss: 0.3794 - val_accuracy: 0.8690\n",
      "Epoch 7/50\n",
      "860/860 [==============================] - 71s 82ms/step - loss: 0.3836 - accuracy: 0.8633 - val_loss: 0.4123 - val_accuracy: 0.8534\n",
      "Epoch 8/50\n",
      "860/860 [==============================] - 72s 84ms/step - loss: 0.3684 - accuracy: 0.8683 - val_loss: 0.5040 - val_accuracy: 0.8102\n",
      "Epoch 9/50\n",
      "860/860 [==============================] - 74s 86ms/step - loss: 0.3538 - accuracy: 0.8731 - val_loss: 0.3716 - val_accuracy: 0.8660\n",
      "Epoch 10/50\n",
      "860/860 [==============================] - 73s 85ms/step - loss: 0.3422 - accuracy: 0.8766 - val_loss: 0.3908 - val_accuracy: 0.8540\n",
      "Epoch 11/50\n",
      "860/860 [==============================] - 76s 89ms/step - loss: 0.3301 - accuracy: 0.8789 - val_loss: 0.3348 - val_accuracy: 0.8812\n",
      "Epoch 12/50\n",
      "860/860 [==============================] - 75s 87ms/step - loss: 0.3189 - accuracy: 0.8844 - val_loss: 0.3359 - val_accuracy: 0.8802\n",
      "Epoch 13/50\n",
      "860/860 [==============================] - 75s 87ms/step - loss: 0.3123 - accuracy: 0.8864 - val_loss: 0.3355 - val_accuracy: 0.8840\n",
      "Epoch 14/50\n",
      "860/860 [==============================] - 76s 88ms/step - loss: 0.3026 - accuracy: 0.8901 - val_loss: 0.3782 - val_accuracy: 0.8626\n",
      "Epoch 15/50\n",
      "860/860 [==============================] - 78s 91ms/step - loss: 0.2946 - accuracy: 0.8933 - val_loss: 0.3708 - val_accuracy: 0.8658\n",
      "Epoch 16/50\n",
      "860/860 [==============================] - 75s 88ms/step - loss: 0.2887 - accuracy: 0.8951 - val_loss: 0.2947 - val_accuracy: 0.8938\n",
      "Epoch 17/50\n",
      "860/860 [==============================] - 77s 89ms/step - loss: 0.2805 - accuracy: 0.8982 - val_loss: 0.4067 - val_accuracy: 0.8602\n",
      "Epoch 18/50\n",
      "860/860 [==============================] - 78s 91ms/step - loss: 0.2754 - accuracy: 0.8988 - val_loss: 0.3481 - val_accuracy: 0.8746\n",
      "Epoch 19/50\n",
      "860/860 [==============================] - 72s 84ms/step - loss: 0.2697 - accuracy: 0.9020 - val_loss: 0.3080 - val_accuracy: 0.8896\n",
      "Epoch 20/50\n",
      "860/860 [==============================] - 77s 89ms/step - loss: 0.2640 - accuracy: 0.9039 - val_loss: 0.3216 - val_accuracy: 0.8824\n",
      "Epoch 21/50\n",
      "860/860 [==============================] - 79s 92ms/step - loss: 0.2581 - accuracy: 0.9059 - val_loss: 0.2872 - val_accuracy: 0.8954\n",
      "Epoch 22/50\n",
      "860/860 [==============================] - 78s 91ms/step - loss: 0.2523 - accuracy: 0.9076 - val_loss: 0.2825 - val_accuracy: 0.8992\n",
      "Epoch 23/50\n",
      "860/860 [==============================] - 80s 93ms/step - loss: 0.2472 - accuracy: 0.9085 - val_loss: 0.2812 - val_accuracy: 0.9008\n",
      "Epoch 24/50\n",
      "860/860 [==============================] - 79s 92ms/step - loss: 0.2423 - accuracy: 0.9124 - val_loss: 0.2949 - val_accuracy: 0.8944\n",
      "Epoch 25/50\n",
      "860/860 [==============================] - 78s 91ms/step - loss: 0.2378 - accuracy: 0.9136 - val_loss: 0.2913 - val_accuracy: 0.8964\n",
      "Epoch 26/50\n",
      "860/860 [==============================] - 79s 92ms/step - loss: 0.2344 - accuracy: 0.9150 - val_loss: 0.2769 - val_accuracy: 0.8998\n",
      "Epoch 27/50\n",
      "860/860 [==============================] - 80s 93ms/step - loss: 0.2298 - accuracy: 0.9168 - val_loss: 0.2692 - val_accuracy: 0.9060\n",
      "Epoch 28/50\n",
      "860/860 [==============================] - 81s 95ms/step - loss: 0.2249 - accuracy: 0.9184 - val_loss: 0.3048 - val_accuracy: 0.8936\n",
      "Epoch 29/50\n",
      "860/860 [==============================] - 78s 90ms/step - loss: 0.2207 - accuracy: 0.9198 - val_loss: 0.2750 - val_accuracy: 0.9008\n",
      "Epoch 30/50\n",
      "860/860 [==============================] - 78s 90ms/step - loss: 0.2171 - accuracy: 0.9208 - val_loss: 0.2687 - val_accuracy: 0.9056\n",
      "Epoch 31/50\n",
      "860/860 [==============================] - 80s 93ms/step - loss: 0.2127 - accuracy: 0.9231 - val_loss: 0.2619 - val_accuracy: 0.9064\n",
      "Epoch 32/50\n",
      "860/860 [==============================] - 80s 93ms/step - loss: 0.2091 - accuracy: 0.9237 - val_loss: 0.2747 - val_accuracy: 0.9010\n",
      "Epoch 33/50\n",
      "860/860 [==============================] - 79s 92ms/step - loss: 0.2051 - accuracy: 0.9261 - val_loss: 0.2859 - val_accuracy: 0.8970\n",
      "Epoch 34/50\n",
      "860/860 [==============================] - 79s 92ms/step - loss: 0.2004 - accuracy: 0.9267 - val_loss: 0.2650 - val_accuracy: 0.9032\n",
      "Epoch 35/50\n",
      "860/860 [==============================] - 80s 92ms/step - loss: 0.1959 - accuracy: 0.9295 - val_loss: 0.2534 - val_accuracy: 0.9060\n",
      "Epoch 36/50\n",
      "860/860 [==============================] - 71s 83ms/step - loss: 0.1934 - accuracy: 0.9303 - val_loss: 0.2718 - val_accuracy: 0.9024\n",
      "Epoch 37/50\n",
      "860/860 [==============================] - 70s 81ms/step - loss: 0.1894 - accuracy: 0.9313 - val_loss: 0.2574 - val_accuracy: 0.9060\n",
      "Epoch 38/50\n",
      "860/860 [==============================] - 68s 79ms/step - loss: 0.1856 - accuracy: 0.9330 - val_loss: 0.2483 - val_accuracy: 0.9106\n",
      "Epoch 39/50\n",
      "860/860 [==============================] - 75s 87ms/step - loss: 0.1825 - accuracy: 0.9345 - val_loss: 0.2457 - val_accuracy: 0.9108\n",
      "Epoch 40/50\n",
      "860/860 [==============================] - 82s 95ms/step - loss: 0.1789 - accuracy: 0.9360 - val_loss: 0.2536 - val_accuracy: 0.9092\n",
      "Epoch 41/50\n",
      "860/860 [==============================] - 85s 99ms/step - loss: 0.1743 - accuracy: 0.9373 - val_loss: 0.2442 - val_accuracy: 0.9116\n",
      "Epoch 42/50\n",
      "860/860 [==============================] - 81s 94ms/step - loss: 0.1709 - accuracy: 0.9382 - val_loss: 0.2411 - val_accuracy: 0.9130\n",
      "Epoch 43/50\n",
      "860/860 [==============================] - 81s 95ms/step - loss: 0.1669 - accuracy: 0.9405 - val_loss: 0.3223 - val_accuracy: 0.8790\n",
      "Epoch 44/50\n",
      "860/860 [==============================] - 79s 92ms/step - loss: 0.1643 - accuracy: 0.9409 - val_loss: 0.2742 - val_accuracy: 0.9002\n",
      "Epoch 45/50\n",
      "860/860 [==============================] - 83s 97ms/step - loss: 0.1598 - accuracy: 0.9425 - val_loss: 0.2581 - val_accuracy: 0.9086\n",
      "Epoch 46/50\n",
      "860/860 [==============================] - 75s 87ms/step - loss: 0.1576 - accuracy: 0.9436 - val_loss: 0.2548 - val_accuracy: 0.9076\n",
      "Epoch 47/50\n",
      "860/860 [==============================] - 66s 77ms/step - loss: 0.1532 - accuracy: 0.9453 - val_loss: 0.2519 - val_accuracy: 0.9090\n"
     ]
    }
   ],
   "source": [
    "history = model.fit(x_train,y_train,epochs=50,batch_size=64,validation_data = (x_valid,y_valid),callbacks = early_stopping_cb)"
   ]
  },
  {
   "cell_type": "code",
   "execution_count": 32,
   "id": "0521c28f",
   "metadata": {},
   "outputs": [
    {
     "data": {
      "image/png": "[encoded data removed]",
      "text/plain": [
       "<Figure size 800x500 with 1 Axes>"
      ]
     },
     "metadata": {},
     "output_type": "display_data"
    }
   ],
   "source": [
    "pd.DataFrame(history.history).plot(figsize=(8,5))\n",
    "plt.grid(True)\n",
    "plt.gca().set_ylim(0,1)\n",
    "plt.show()"
   ]
  },
  {
   "cell_type": "code",
   "execution_count": 33,
   "id": "6ceb20d6",
   "metadata": {},
   "outputs": [
    {
     "name": "stdout",
     "output_type": "stream",
     "text": [
      "313/313 [==============================] - 9s 26ms/step - loss: 62.8381 - accuracy: 0.8449\n"
     ]
    },
    {
     "data": {
      "text/plain": [
       "[62.83809280395508, 0.8449000120162964]"
      ]
     },
     "execution_count": 33,
     "metadata": {},
     "output_type": "execute_result"
    }
   ],
   "source": [
    "model.evaluate(x_test,y_test)"
   ]
  },
  {
   "cell_type": "code",
   "execution_count": 34,
   "id": "148229c0",
   "metadata": {},
   "outputs": [],
   "source": [
    "x_new = x_test[:4]"
   ]
  },
  {
   "cell_type": "code",
   "execution_count": 35,
   "id": "089bf9ca",
   "metadata": {},
   "outputs": [
    {
     "name": "stdout",
     "output_type": "stream",
     "text": [
      "1/1 [==============================] - 2s 2s/step\n"
     ]
    },
    {
     "data": {
      "text/plain": [
       "array([9, 2, 1, 1], dtype=int64)"
      ]
     },
     "execution_count": 35,
     "metadata": {},
     "output_type": "execute_result"
    }
   ],
   "source": [
    "y_pred = np.argmax(model.predict(x_new),axis=-1)\n",
    "y_pred"
   ]
  },
  {
   "cell_type": "code",
   "execution_count": 36,
   "id": "155eba62",
   "metadata": {},
   "outputs": [
    {
     "data": {
      "text/plain": [
       "array([9, 2, 1, 1], dtype=uint8)"
      ]
     },
     "execution_count": 36,
     "metadata": {},
     "output_type": "execute_result"
    }
   ],
   "source": [
    "y_test[:4]"
   ]
  },
  {
   "cell_type": "code",
   "execution_count": 39,
   "id": "42a7517a",
   "metadata": {},
   "outputs": [
    {
     "data": {
      "text/plain": [
       "array(['Ankle boot', 'Pullover', 'Trouser', 'Trouser'], dtype='<U11')"
      ]
     },
     "execution_count": 39,
     "metadata": {},
     "output_type": "execute_result"
    }
   ],
   "source": [
    "y_pred_c = np.array(class_names)[y_pred]\n",
    "y_pred_c"
   ]
  },
  {
   "cell_type": "code",
   "execution_count": 40,
   "id": "9a13ff12",
   "metadata": {},
   "outputs": [],
   "source": [
    "model.save(\"my_CNN_fashion_mnist.h5\")\n",
    "del model"
   ]
  },
  {
   "cell_type": "code",
   "execution_count": 41,
   "id": "cd54a955",
   "metadata": {},
   "outputs": [],
   "source": [
    "keras.backend.clear_session()"
   ]
  },
  {
   "cell_type": "markdown",
   "id": "f783f670",
   "metadata": {},
   "source": [
    "# PROJECT"
   ]
  },
  {
   "cell_type": "code",
   "execution_count": 42,
   "id": "ba1afbfc",
   "metadata": {},
   "outputs": [],
   "source": [
    "#classification of cats and dogs"
   ]
  },
  {
   "cell_type": "code",
   "execution_count": 43,
   "id": "a29b1529",
   "metadata": {},
   "outputs": [],
   "source": [
    "train_dir = r\"C:\\Users\\OWUSU\\Desktop\\ML n DL\\Project\\train\"\n",
    "validation_dir = r\"C:\\Users\\OWUSU\\Desktop\\ML n DL\\Project\\validation\"\n",
    "test_dir = r\"C:\\Users\\OWUSU\\Desktop\\ML n DL\\Project\\test\""
   ]
  },
  {
   "cell_type": "code",
   "execution_count": 44,
   "id": "ae517062",
   "metadata": {},
   "outputs": [],
   "source": [
    "from tensorflow.keras.preprocessing.image import ImageDataGenerator"
   ]
  },
  {
   "cell_type": "code",
   "execution_count": 46,
   "id": "dd69734a",
   "metadata": {},
   "outputs": [],
   "source": [
    "train_datagen = ImageDataGenerator(rescale = 1./255)\n",
    "test_datagen = ImageDataGenerator(rescale = 1./255)"
   ]
  },
  {
   "cell_type": "code",
   "execution_count": 73,
   "id": "bbfd6193",
   "metadata": {},
   "outputs": [
    {
     "name": "stdout",
     "output_type": "stream",
     "text": [
      "Found 2000 images belonging to 2 classes.\n"
     ]
    }
   ],
   "source": [
    "train_generator = train_datagen.flow_from_directory(train_dir,target_size = (150, 150),batch_size = 20,class_mode = 'binary')"
   ]
  },
  {
   "cell_type": "code",
   "execution_count": 74,
   "id": "c4352799",
   "metadata": {},
   "outputs": [
    {
     "name": "stdout",
     "output_type": "stream",
     "text": [
      "Found 1000 images belonging to 2 classes.\n"
     ]
    }
   ],
   "source": [
    "validation_generator = test_datagen.flow_from_directory(validation_dir,target_size=(150, 150),batch_size=20,class_mode = 'binary')"
   ]
  },
  {
   "cell_type": "code",
   "execution_count": 51,
   "id": "f2146549",
   "metadata": {},
   "outputs": [],
   "source": [
    "from tensorflow.keras import layers\n",
    "from tensorflow.keras import models"
   ]
  },
  {
   "cell_type": "code",
   "execution_count": 76,
   "id": "2059b7be",
   "metadata": {},
   "outputs": [
    {
     "name": "stdout",
     "output_type": "stream",
     "text": [
      "Model: \"sequential_2\"\n",
      "_________________________________________________________________\n",
      " Layer (type)                Output Shape              Param #   \n",
      "=================================================================\n",
      " conv2d_22 (Conv2D)          (None, 148, 148, 32)      896       \n",
      "                                                                 \n",
      " max_pooling2d_9 (MaxPooling  (None, 74, 74, 32)       0         \n",
      " 2D)                                                             \n",
      "                                                                 \n",
      " conv2d_23 (Conv2D)          (None, 72, 72, 64)        18496     \n",
      "                                                                 \n",
      " max_pooling2d_10 (MaxPoolin  (None, 36, 36, 64)       0         \n",
      " g2D)                                                            \n",
      "                                                                 \n",
      " conv2d_24 (Conv2D)          (None, 34, 34, 128)       73856     \n",
      "                                                                 \n",
      " max_pooling2d_11 (MaxPoolin  (None, 17, 17, 128)      0         \n",
      " g2D)                                                            \n",
      "                                                                 \n",
      " conv2d_25 (Conv2D)          (None, 15, 15, 128)       147584    \n",
      "                                                                 \n",
      " max_pooling2d_12 (MaxPoolin  (None, 7, 7, 128)        0         \n",
      " g2D)                                                            \n",
      "                                                                 \n",
      " flatten_1 (Flatten)         (None, 6272)              0         \n",
      "                                                                 \n",
      " dense_2 (Dense)             (None, 512)               3211776   \n",
      "                                                                 \n",
      " dense_3 (Dense)             (None, 1)                 513       \n",
      "                                                                 \n",
      "=================================================================\n",
      "Total params: 3,453,121\n",
      "Trainable params: 3,453,121\n",
      "Non-trainable params: 0\n",
      "_________________________________________________________________\n"
     ]
    }
   ],
   "source": [
    "model = models.Sequential()\n",
    "\n",
    "model.add(layers.Conv2D(32, (3, 3), activation='relu',\n",
    "                        input_shape=(150, 150, 3)))\n",
    "model.add(layers.MaxPooling2D((2, 2)))\n",
    "\n",
    "model.add(layers.Conv2D(64, (3, 3), activation='relu'))\n",
    "model.add(layers.MaxPooling2D((2, 2)))\n",
    "\n",
    "model.add(layers.Conv2D(128, (3, 3), activation='relu'))\n",
    "model.add(layers.MaxPooling2D((2, 2)))\n",
    "\n",
    "model.add(layers.Conv2D(128, (3, 3), activation='relu'))\n",
    "model.add(layers.MaxPooling2D((2, 2)))\n",
    "\n",
    "model.add(layers.Flatten())\n",
    "\n",
    "model.add(layers.Dense(512, activation='relu'))\n",
    "\n",
    "model.add(layers.Dense(1, activation='sigmoid'))\n",
    "model.summary()"
   ]
  },
  {
   "cell_type": "code",
   "execution_count": 77,
   "id": "82790b43",
   "metadata": {},
   "outputs": [],
   "source": [
    "from tensorflow.keras import optimizers"
   ]
  },
  {
   "cell_type": "code",
   "execution_count": 78,
   "id": "bd2d237a",
   "metadata": {},
   "outputs": [],
   "source": [
    "model.compile(loss = 'binary_crossentropy',\n",
    "             optimizer=optimizers.RMSprop(learning_rate=1e-4),\n",
    "             metrics = ['accuracy'])"
   ]
  },
  {
   "cell_type": "code",
   "execution_count": 80,
   "id": "91c639b0",
   "metadata": {},
   "outputs": [],
   "source": [
    "early_stopping = keras.callbacks.EarlyStopping(patience=3,restore_best_weights=True)"
   ]
  },
  {
   "cell_type": "code",
   "execution_count": 85,
   "id": "a77c1835",
   "metadata": {},
   "outputs": [
    {
     "name": "stderr",
     "output_type": "stream",
     "text": [
      "C:\\Users\\OWUSU\\AppData\\Local\\Temp\\ipykernel_11636\\1659988724.py:1: UserWarning: `Model.fit_generator` is deprecated and will be removed in a future version. Please use `Model.fit`, which supports generators.\n",
      "  history = model.fit_generator(train_generator,steps_per_epoch=100,epochs=10,validation_data=validation_generator,validation_steps=50,callbacks=[early_stopping])\n"
     ]
    },
    {
     "name": "stdout",
     "output_type": "stream",
     "text": [
      "Epoch 1/10\n",
      "100/100 [==============================] - 254s 3s/step - loss: 0.3869 - accuracy: 0.8205 - val_loss: 0.5787 - val_accuracy: 0.7190\n",
      "Epoch 2/10\n",
      "100/100 [==============================] - 271s 3s/step - loss: 0.3622 - accuracy: 0.8275 - val_loss: 0.5841 - val_accuracy: 0.7110\n",
      "Epoch 3/10\n",
      "100/100 [==============================] - 313s 3s/step - loss: 0.3384 - accuracy: 0.8485 - val_loss: 0.5876 - val_accuracy: 0.7130\n",
      "Epoch 4/10\n",
      "100/100 [==============================] - 314s 3s/step - loss: 0.3071 - accuracy: 0.8720 - val_loss: 0.6048 - val_accuracy: 0.7110\n"
     ]
    }
   ],
   "source": [
    "history = model.fit_generator(train_generator,steps_per_epoch=100,epochs=10,validation_data=validation_generator,validation_steps=50,callbacks=[early_stopping])"
   ]
  },
  {
   "cell_type": "code",
   "execution_count": 86,
   "id": "92e57ad7",
   "metadata": {},
   "outputs": [
    {
     "data": {
      "image/png": "[encoded data removed]",
      "text/plain": [
       "<Figure size 800x500 with 1 Axes>"
      ]
     },
     "metadata": {},
     "output_type": "display_data"
    }
   ],
   "source": [
    "pd.DataFrame(history.history).plot(figsize=(8,5))\n",
    "plt.grid(True)\n",
    "plt.gca().set_ylim(0,1)\n",
    "plt.show()"
   ]
  },
  {
   "cell_type": "code",
   "execution_count": 87,
   "id": "e5318f57",
   "metadata": {},
   "outputs": [
    {
     "data": {
      "text/plain": [
       "<function keras.backend.clear_session()>"
      ]
     },
     "execution_count": 87,
     "metadata": {},
     "output_type": "execute_result"
    }
   ],
   "source": [
    "model.save(\"cnn_cat_dog_project.h5\")\n",
    "del model\n",
    "keras.backend.clear_session"
   ]
  },
  {
   "cell_type": "code",
   "execution_count": 88,
   "id": "1b9516e1",
   "metadata": {},
   "outputs": [
    {
     "name": "stdout",
     "output_type": "stream",
     "text": [
      "Model: \"sequential_2\"\n",
      "_________________________________________________________________\n",
      " Layer (type)                Output Shape              Param #   \n",
      "=================================================================\n",
      " conv2d_22 (Conv2D)          (None, 148, 148, 32)      896       \n",
      "                                                                 \n",
      " max_pooling2d_9 (MaxPooling  (None, 74, 74, 32)       0         \n",
      " 2D)                                                             \n",
      "                                                                 \n",
      " conv2d_23 (Conv2D)          (None, 72, 72, 64)        18496     \n",
      "                                                                 \n",
      " max_pooling2d_10 (MaxPoolin  (None, 36, 36, 64)       0         \n",
      " g2D)                                                            \n",
      "                                                                 \n",
      " conv2d_24 (Conv2D)          (None, 34, 34, 128)       73856     \n",
      "                                                                 \n",
      " max_pooling2d_11 (MaxPoolin  (None, 17, 17, 128)      0         \n",
      " g2D)                                                            \n",
      "                                                                 \n",
      " conv2d_25 (Conv2D)          (None, 15, 15, 128)       147584    \n",
      "                                                                 \n",
      " max_pooling2d_12 (MaxPoolin  (None, 7, 7, 128)        0         \n",
      " g2D)                                                            \n",
      "                                                                 \n",
      " flatten_1 (Flatten)         (None, 6272)              0         \n",
      "                                                                 \n",
      " dense_2 (Dense)             (None, 512)               3211776   \n",
      "                                                                 \n",
      " dense_3 (Dense)             (None, 1)                 513       \n",
      "                                                                 \n",
      "=================================================================\n",
      "Total params: 3,453,121\n",
      "Trainable params: 3,453,121\n",
      "Non-trainable params: 0\n",
      "_________________________________________________________________\n"
     ]
    }
   ],
   "source": [
    "    model = keras.models.load_model(\"cnn_cat_dog_project.h5\")\n",
    "    model.summary()"
   ]
  },
  {
   "cell_type": "code",
   "execution_count": 90,
   "id": "b54a733b",
   "metadata": {},
   "outputs": [
    {
     "name": "stdout",
     "output_type": "stream",
     "text": [
      "Found 1000 images belonging to 2 classes.\n"
     ]
    }
   ],
   "source": [
    "test_generator = test_datagen.flow_from_directory(test_dir,target_size=(150,150),batch_size=20,class_mode='binary')"
   ]
  },
  {
   "cell_type": "code",
   "execution_count": 91,
   "id": "06e88892",
   "metadata": {},
   "outputs": [
    {
     "name": "stdout",
     "output_type": "stream",
     "text": [
      "50/50 [==============================] - 67s 1s/step - loss: 0.5739 - accuracy: 0.7100\n"
     ]
    },
    {
     "data": {
      "text/plain": [
       "[0.5738973617553711, 0.7099999785423279]"
      ]
     },
     "execution_count": 91,
     "metadata": {},
     "output_type": "execute_result"
    }
   ],
   "source": [
    "model.evaluate(test_generator,steps=50)"
   ]
  },
  {
   "cell_type": "code",
   "execution_count": 96,
   "id": "a921089c",
   "metadata": {},
   "outputs": [
    {
     "name": "stdout",
     "output_type": "stream",
     "text": [
      "50/50 [==============================] - 24s 433ms/step\n"
     ]
    }
   ],
   "source": [
    "pred = model.predict(test_generator)"
   ]
  },
  {
   "cell_type": "code",
   "execution_count": 97,
   "id": "79afb5f2",
   "metadata": {},
   "outputs": [
    {
     "data": {
      "text/plain": [
       "array([[0.46455777],\n",
       "       [0.7286841 ],\n",
       "       [0.3133293 ],\n",
       "       [0.8120074 ]], dtype=float32)"
      ]
     },
     "execution_count": 97,
     "metadata": {},
     "output_type": "execute_result"
    }
   ],
   "source": [
    "pred[:4]"
   ]
  },
  {
   "cell_type": "code",
   "execution_count": 103,
   "id": "62a1c855",
   "metadata": {},
   "outputs": [],
   "source": [
    "from PIL import Image"
   ]
  },
  {
   "cell_type": "code",
   "execution_count": 107,
   "id": "bac183e5",
   "metadata": {},
   "outputs": [],
   "source": [
    "img = Image.fromarray(pred,mode='RGB')"
   ]
  },
  {
   "cell_type": "code",
   "execution_count": 111,
   "id": "b3bf79fe",
   "metadata": {},
   "outputs": [],
   "source": [
    "img.show(0)"
   ]
  },
  {
   "cell_type": "code",
   "execution_count": 112,
   "id": "207c1968",
   "metadata": {},
   "outputs": [],
   "source": [
    "del model\n",
    "keras.backend.clear_session()"
   ]
  },
  {
   "cell_type": "markdown",
   "id": "c7090823",
   "metadata": {},
   "source": [
    "# Data Augmentation"
   ]
  },
  {
   "cell_type": "code",
   "execution_count": 113,
   "id": "4910580b",
   "metadata": {},
   "outputs": [
    {
     "name": "stdout",
     "output_type": "stream",
     "text": [
      "Found 2000 images belonging to 2 classes.\n",
      "Found 1000 images belonging to 2 classes.\n",
      "Found 1000 images belonging to 2 classes.\n"
     ]
    }
   ],
   "source": [
    "train_datagen = ImageDataGenerator(rescale=1./255,\n",
    "                                   rotation_range=40,\n",
    "                                  width_shift_range=0.2,\n",
    "                                  height_shift_range=0.2,\n",
    "                                  shear_range=0.2,\n",
    "                                  zoom_range=0.2,\n",
    "                                  horizontal_flip=True)\n",
    "\n",
    "test_datagen = ImageDataGenerator(rescale=1./255)\n",
    "\n",
    "train_generator = train_datagen.flow_from_directory(train_dir,target_size=(150,150),batch_size=20,class_mode='binary')\n",
    "\n",
    "validation_generator = test_datagen.flow_from_directory(validation_dir,target_size=(150,150),batch_size=20,class_mode='binary')\n",
    "\n",
    "test_generator = test_datagen.flow_from_directory(test_dir,target_size=(150,150),batch_size=20,class_mode='binary')\n"
   ]
  },
  {
   "cell_type": "code",
   "execution_count": 123,
   "id": "022d0de3",
   "metadata": {},
   "outputs": [
    {
     "name": "stdout",
     "output_type": "stream",
     "text": [
      "Model: \"sequential_6\"\n",
      "_________________________________________________________________\n",
      " Layer (type)                Output Shape              Param #   \n",
      "=================================================================\n",
      " conv2d_13 (Conv2D)          (None, 148, 148, 32)      896       \n",
      "                                                                 \n",
      " max_pooling2d_10 (MaxPoolin  (None, 74, 74, 32)       0         \n",
      " g2D)                                                            \n",
      "                                                                 \n",
      " conv2d_14 (Conv2D)          (None, 72, 72, 64)        18496     \n",
      "                                                                 \n",
      " max_pooling2d_11 (MaxPoolin  (None, 36, 36, 64)       0         \n",
      " g2D)                                                            \n",
      "                                                                 \n",
      " conv2d_15 (Conv2D)          (None, 34, 34, 128)       73856     \n",
      "                                                                 \n",
      " max_pooling2d_12 (MaxPoolin  (None, 17, 17, 128)      0         \n",
      " g2D)                                                            \n",
      "                                                                 \n",
      " conv2d_16 (Conv2D)          (None, 15, 15, 128)       147584    \n",
      "                                                                 \n",
      " max_pooling2d_13 (MaxPoolin  (None, 7, 7, 128)        0         \n",
      " g2D)                                                            \n",
      "                                                                 \n",
      " flatten_1 (Flatten)         (None, 6272)              0         \n",
      "                                                                 \n",
      " dense (Dense)               (None, 512)               3211776   \n",
      "                                                                 \n",
      " dense_1 (Dense)             (None, 1)                 513       \n",
      "                                                                 \n",
      "=================================================================\n",
      "Total params: 3,453,121\n",
      "Trainable params: 3,453,121\n",
      "Non-trainable params: 0\n",
      "_________________________________________________________________\n"
     ]
    }
   ],
   "source": [
    "model = models.Sequential()\n",
    "model.add(layers.Conv2D(32,(3,3),input_shape=(150,150,3),activation='relu'))\n",
    "model.add(layers.MaxPooling2D(2,2))\n",
    "model.add(layers.Conv2D(64,(3,3),activation='relu'))\n",
    "model.add(layers.MaxPooling2D((2,2)))\n",
    "model.add(layers.Conv2D(128,(3,3),activation='relu'))\n",
    "model.add(layers.MaxPooling2D((2,2)))\n",
    "model.add(layers.Conv2D(128,(3,3),activation='relu'))\n",
    "model.add(layers.MaxPooling2D((2,2)))\n",
    "\n",
    "model.add(layers.Flatten())\n",
    "model.add(layers.Dense(512,activation='relu'))\n",
    "model.add(layers.Dense(1,activation='sigmoid'))\n",
    "\n",
    "model.summary()\n"
   ]
  },
  {
   "cell_type": "code",
   "execution_count": 137,
   "id": "ca659a6d",
   "metadata": {},
   "outputs": [],
   "source": [
    "model.compile(loss = 'binary_crossentropy',\n",
    "             optimizer=optimizers.RMSprop(learning_rate=1e-4),\n",
    "             metrics = ['accuracy'])\n",
    "\n",
    "early_stopping = [keras.callbacks.EarlyStopping(monitor='val_accuracy',patience=10,restore_best_weights=True),keras.callbacks.ModelCheckpoint('cnn_cat_dog_aug.h5',save_best_only=True)]"
   ]
  },
  {
   "cell_type": "code",
   "execution_count": 138,
   "id": "d04c7989",
   "metadata": {},
   "outputs": [
    {
     "name": "stdout",
     "output_type": "stream",
     "text": [
      "Epoch 1/400\n",
      "100/100 [==============================] - 191s 2s/step - loss: 0.5613 - accuracy: 0.7105 - val_loss: 0.5332 - val_accuracy: 0.7160\n",
      "Epoch 2/400\n",
      "100/100 [==============================] - 222s 2s/step - loss: 0.5516 - accuracy: 0.7210 - val_loss: 0.5401 - val_accuracy: 0.7120\n",
      "Epoch 3/400\n",
      "100/100 [==============================] - 238s 2s/step - loss: 0.5502 - accuracy: 0.7080 - val_loss: 0.5883 - val_accuracy: 0.6850\n",
      "Epoch 4/400\n",
      "100/100 [==============================] - 240s 2s/step - loss: 0.5477 - accuracy: 0.7235 - val_loss: 0.5242 - val_accuracy: 0.7140\n",
      "Epoch 5/400\n",
      "100/100 [==============================] - 237s 2s/step - loss: 0.5503 - accuracy: 0.7245 - val_loss: 0.4959 - val_accuracy: 0.7490\n",
      "Epoch 6/400\n",
      "100/100 [==============================] - 240s 2s/step - loss: 0.5342 - accuracy: 0.7320 - val_loss: 0.5007 - val_accuracy: 0.7420\n",
      "Epoch 7/400\n",
      "100/100 [==============================] - 243s 2s/step - loss: 0.5437 - accuracy: 0.7360 - val_loss: 0.4922 - val_accuracy: 0.7460\n",
      "Epoch 8/400\n",
      "100/100 [==============================] - 243s 2s/step - loss: 0.5280 - accuracy: 0.7310 - val_loss: 0.5728 - val_accuracy: 0.7030\n",
      "Epoch 9/400\n",
      "100/100 [==============================] - 240s 2s/step - loss: 0.5285 - accuracy: 0.7330 - val_loss: 0.5422 - val_accuracy: 0.7080\n",
      "Epoch 10/400\n",
      "100/100 [==============================] - 235s 2s/step - loss: 0.5253 - accuracy: 0.7320 - val_loss: 0.4936 - val_accuracy: 0.7550\n",
      "Epoch 11/400\n",
      "100/100 [==============================] - 235s 2s/step - loss: 0.5219 - accuracy: 0.7505 - val_loss: 0.5027 - val_accuracy: 0.7450\n",
      "Epoch 12/400\n",
      "100/100 [==============================] - 238s 2s/step - loss: 0.5173 - accuracy: 0.7380 - val_loss: 0.5437 - val_accuracy: 0.7290\n",
      "Epoch 13/400\n",
      "100/100 [==============================] - 235s 2s/step - loss: 0.5161 - accuracy: 0.7425 - val_loss: 0.4870 - val_accuracy: 0.7550\n",
      "Epoch 14/400\n",
      "100/100 [==============================] - 232s 2s/step - loss: 0.4988 - accuracy: 0.7540 - val_loss: 0.4810 - val_accuracy: 0.7560\n",
      "Epoch 15/400\n",
      "100/100 [==============================] - 235s 2s/step - loss: 0.4954 - accuracy: 0.7565 - val_loss: 0.5609 - val_accuracy: 0.7180\n",
      "Epoch 16/400\n",
      "100/100 [==============================] - 239s 2s/step - loss: 0.4929 - accuracy: 0.7570 - val_loss: 0.4777 - val_accuracy: 0.7760\n",
      "Epoch 17/400\n",
      "100/100 [==============================] - 237s 2s/step - loss: 0.4859 - accuracy: 0.7600 - val_loss: 0.4952 - val_accuracy: 0.7520\n",
      "Epoch 18/400\n",
      "100/100 [==============================] - 238s 2s/step - loss: 0.5006 - accuracy: 0.7585 - val_loss: 0.5280 - val_accuracy: 0.7260\n",
      "Epoch 19/400\n",
      "100/100 [==============================] - 237s 2s/step - loss: 0.4961 - accuracy: 0.7620 - val_loss: 0.5120 - val_accuracy: 0.7260\n",
      "Epoch 20/400\n",
      "100/100 [==============================] - 239s 2s/step - loss: 0.4901 - accuracy: 0.7695 - val_loss: 0.4973 - val_accuracy: 0.7520\n",
      "Epoch 21/400\n",
      "100/100 [==============================] - 244s 2s/step - loss: 0.4960 - accuracy: 0.7630 - val_loss: 0.5027 - val_accuracy: 0.7380\n",
      "Epoch 22/400\n",
      "100/100 [==============================] - 244s 2s/step - loss: 0.4772 - accuracy: 0.7805 - val_loss: 0.4787 - val_accuracy: 0.7670\n",
      "Epoch 23/400\n",
      "100/100 [==============================] - 238s 2s/step - loss: 0.4849 - accuracy: 0.7685 - val_loss: 0.4775 - val_accuracy: 0.7620\n",
      "Epoch 24/400\n",
      "100/100 [==============================] - 236s 2s/step - loss: 0.4800 - accuracy: 0.7740 - val_loss: 0.5992 - val_accuracy: 0.6980\n",
      "Epoch 25/400\n",
      "100/100 [==============================] - 237s 2s/step - loss: 0.4841 - accuracy: 0.7640 - val_loss: 0.4453 - val_accuracy: 0.7910\n",
      "Epoch 26/400\n",
      "100/100 [==============================] - 240s 2s/step - loss: 0.4655 - accuracy: 0.7760 - val_loss: 0.4541 - val_accuracy: 0.7840\n",
      "Epoch 27/400\n",
      "100/100 [==============================] - 237s 2s/step - loss: 0.4677 - accuracy: 0.7855 - val_loss: 0.4657 - val_accuracy: 0.7790\n",
      "Epoch 28/400\n",
      "100/100 [==============================] - 238s 2s/step - loss: 0.4627 - accuracy: 0.7770 - val_loss: 0.5000 - val_accuracy: 0.7480\n",
      "Epoch 29/400\n",
      "100/100 [==============================] - 242s 2s/step - loss: 0.4625 - accuracy: 0.7725 - val_loss: 0.4910 - val_accuracy: 0.7540\n",
      "Epoch 30/400\n",
      "100/100 [==============================] - 243s 2s/step - loss: 0.4478 - accuracy: 0.7845 - val_loss: 0.4943 - val_accuracy: 0.7600\n",
      "Epoch 31/400\n",
      "100/100 [==============================] - 243s 2s/step - loss: 0.4541 - accuracy: 0.7855 - val_loss: 0.4821 - val_accuracy: 0.7650\n",
      "Epoch 32/400\n",
      "100/100 [==============================] - 241s 2s/step - loss: 0.4582 - accuracy: 0.7900 - val_loss: 0.4705 - val_accuracy: 0.7630\n",
      "Epoch 33/400\n",
      "100/100 [==============================] - 242s 2s/step - loss: 0.4652 - accuracy: 0.7770 - val_loss: 0.4655 - val_accuracy: 0.7650\n",
      "Epoch 34/400\n",
      "100/100 [==============================] - 236s 2s/step - loss: 0.4558 - accuracy: 0.7815 - val_loss: 0.4360 - val_accuracy: 0.7940\n",
      "Epoch 35/400\n",
      "100/100 [==============================] - 237s 2s/step - loss: 0.4513 - accuracy: 0.7825 - val_loss: 0.4667 - val_accuracy: 0.7750\n",
      "Epoch 36/400\n",
      "100/100 [==============================] - 238s 2s/step - loss: 0.4423 - accuracy: 0.7990 - val_loss: 0.5632 - val_accuracy: 0.7480\n",
      "Epoch 37/400\n",
      "100/100 [==============================] - 241s 2s/step - loss: 0.4489 - accuracy: 0.7925 - val_loss: 0.4865 - val_accuracy: 0.7640\n",
      "Epoch 38/400\n",
      "100/100 [==============================] - 239s 2s/step - loss: 0.4482 - accuracy: 0.7860 - val_loss: 0.4677 - val_accuracy: 0.7710\n",
      "Epoch 39/400\n",
      "100/100 [==============================] - 234s 2s/step - loss: 0.4397 - accuracy: 0.7985 - val_loss: 0.4589 - val_accuracy: 0.7870\n",
      "Epoch 40/400\n",
      "100/100 [==============================] - 234s 2s/step - loss: 0.4396 - accuracy: 0.7910 - val_loss: 0.4823 - val_accuracy: 0.7620\n",
      "Epoch 41/400\n",
      "100/100 [==============================] - 234s 2s/step - loss: 0.4356 - accuracy: 0.7985 - val_loss: 0.5023 - val_accuracy: 0.7670\n",
      "Epoch 42/400\n",
      "100/100 [==============================] - 236s 2s/step - loss: 0.4277 - accuracy: 0.8015 - val_loss: 0.4903 - val_accuracy: 0.7750\n",
      "Epoch 43/400\n",
      "100/100 [==============================] - 239s 2s/step - loss: 0.4269 - accuracy: 0.8075 - val_loss: 0.5390 - val_accuracy: 0.7540\n",
      "Epoch 44/400\n",
      "100/100 [==============================] - 216s 2s/step - loss: 0.4323 - accuracy: 0.8000 - val_loss: 0.5320 - val_accuracy: 0.7490\n"
     ]
    }
   ],
   "source": [
    "history = model.fit(train_generator,steps_per_epoch=100,validation_data=validation_generator,validation_steps=50,epochs=400,callbacks=[early_stopping])"
   ]
  },
  {
   "cell_type": "code",
   "execution_count": 139,
   "id": "36f3d16d",
   "metadata": {},
   "outputs": [
    {
     "name": "stdout",
     "output_type": "stream",
     "text": [
      "50/50 [==============================] - 36s 707ms/step - loss: 0.4669 - accuracy: 0.7760\n"
     ]
    },
    {
     "data": {
      "text/plain": [
       "[0.46686089038848877, 0.7760000228881836]"
      ]
     },
     "execution_count": 139,
     "metadata": {},
     "output_type": "execute_result"
    }
   ],
   "source": [
    "model.evaluate(test_generator,steps=50)"
   ]
  },
  {
   "cell_type": "code",
   "execution_count": 141,
   "id": "52125d13",
   "metadata": {},
   "outputs": [
    {
     "data": {
      "image/png": "[encoded data removed]",
      "text/plain": [
       "<Figure size 800x500 with 1 Axes>"
      ]
     },
     "metadata": {},
     "output_type": "display_data"
    }
   ],
   "source": [
    "pd.DataFrame(history.history).plot(figsize=(8,5))\n",
    "plt.grid(True)\n",
    "plt.gca().set_ylim(0,1)\n",
    "plt.show()"
   ]
  },
  {
   "cell_type": "markdown",
   "id": "33ab7769",
   "metadata": {},
   "source": [
    "# VGG"
   ]
  },
  {
   "cell_type": "code",
   "execution_count": 145,
   "id": "83806565",
   "metadata": {},
   "outputs": [
    {
     "name": "stdout",
     "output_type": "stream",
     "text": [
      "Downloading data from https://storage.googleapis.com/tensorflow/keras-applications/vgg16/vgg16_weights_tf_dim_ordering_tf_kernels_notop.h5\n",
      "58889256/58889256 [==============================] - 206s 3us/step\n",
      "Model: \"vgg16\"\n",
      "_________________________________________________________________\n",
      " Layer (type)                Output Shape              Param #   \n",
      "=================================================================\n",
      " input_3 (InputLayer)        [(None, 150, 150, 3)]     0         \n",
      "                                                                 \n",
      " block1_conv1 (Conv2D)       (None, 150, 150, 64)      1792      \n",
      "                                                                 \n",
      " block1_conv2 (Conv2D)       (None, 150, 150, 64)      36928     \n",
      "                                                                 \n",
      " block1_pool (MaxPooling2D)  (None, 75, 75, 64)        0         \n",
      "                                                                 \n",
      " block2_conv1 (Conv2D)       (None, 75, 75, 128)       73856     \n",
      "                                                                 \n",
      " block2_conv2 (Conv2D)       (None, 75, 75, 128)       147584    \n",
      "                                                                 \n",
      " block2_pool (MaxPooling2D)  (None, 37, 37, 128)       0         \n",
      "                                                                 \n",
      " block3_conv1 (Conv2D)       (None, 37, 37, 256)       295168    \n",
      "                                                                 \n",
      " block3_conv2 (Conv2D)       (None, 37, 37, 256)       590080    \n",
      "                                                                 \n",
      " block3_conv3 (Conv2D)       (None, 37, 37, 256)       590080    \n",
      "                                                                 \n",
      " block3_pool (MaxPooling2D)  (None, 18, 18, 256)       0         \n",
      "                                                                 \n",
      " block4_conv1 (Conv2D)       (None, 18, 18, 512)       1180160   \n",
      "                                                                 \n",
      " block4_conv2 (Conv2D)       (None, 18, 18, 512)       2359808   \n",
      "                                                                 \n",
      " block4_conv3 (Conv2D)       (None, 18, 18, 512)       2359808   \n",
      "                                                                 \n",
      " block4_pool (MaxPooling2D)  (None, 9, 9, 512)         0         \n",
      "                                                                 \n",
      " block5_conv1 (Conv2D)       (None, 9, 9, 512)         2359808   \n",
      "                                                                 \n",
      " block5_conv2 (Conv2D)       (None, 9, 9, 512)         2359808   \n",
      "                                                                 \n",
      " block5_conv3 (Conv2D)       (None, 9, 9, 512)         2359808   \n",
      "                                                                 \n",
      " block5_pool (MaxPooling2D)  (None, 4, 4, 512)         0         \n",
      "                                                                 \n",
      "=================================================================\n",
      "Total params: 14,714,688\n",
      "Trainable params: 14,714,688\n",
      "Non-trainable params: 0\n",
      "_________________________________________________________________\n",
      "Model: \"sequential_7\"\n",
      "_________________________________________________________________\n",
      " Layer (type)                Output Shape              Param #   \n",
      "=================================================================\n",
      " vgg16 (Functional)          (None, 4, 4, 512)         14714688  \n",
      "                                                                 \n",
      " flatten_2 (Flatten)         (None, 8192)              0         \n",
      "                                                                 \n",
      " dense_2 (Dense)             (None, 256)               2097408   \n",
      "                                                                 \n",
      " dense_3 (Dense)             (None, 1)                 257       \n",
      "                                                                 \n",
      "=================================================================\n",
      "Total params: 16,812,353\n",
      "Trainable params: 16,812,353\n",
      "Non-trainable params: 0\n",
      "_________________________________________________________________\n"
     ]
    }
   ],
   "source": [
    "from tensorflow.keras.applications import VGG16\n",
    "conv_base = VGG16(weights = 'imagenet',\n",
    "                 include_top = False,\n",
    "                 input_shape = (150,150,3)\n",
    "                 )\n",
    "conv_base.summary()\n",
    "model = models.Sequential()\n",
    "model.add(conv_base)\n",
    "model.add(layers.Flatten())\n",
    "model.add(layers.Dense(256,activation = 'relu'))\n",
    "model.add(layers.Dense(1,activation = 'sigmoid'))\n",
    "\n",
    "model.summary()\n"
   ]
  },
  {
   "cell_type": "code",
   "execution_count": 146,
   "id": "b3a66aea",
   "metadata": {},
   "outputs": [],
   "source": [
    "model.compile(loss = 'binary_crossentropy',\n",
    "             optimizer = optimizers.RMSprop(learning_rate=2e-5),\n",
    "             metrics = ['accuracy'])\n",
    "\n",
    "callbacks = keras.callbacks.ModelCheckpoint(\"cat_dog_vgg.h5\",save_best_only = True)"
   ]
  },
  {
   "cell_type": "code",
   "execution_count": 148,
   "id": "46ada4eb",
   "metadata": {},
   "outputs": [
    {
     "name": "stdout",
     "output_type": "stream",
     "text": [
      "Epoch 1/100\n",
      "100/100 [==============================] - 4616s 46s/step - loss: 0.4604 - accuracy: 0.7780 - val_loss: 0.1853 - val_accuracy: 0.9170\n",
      "Epoch 2/100\n",
      " 32/100 [========>.....................] - ETA: 48:31 - loss: 0.3079 - accuracy: 0.8766"
     ]
    },
    {
     "ename": "KeyboardInterrupt",
     "evalue": "",
     "output_type": "error",
     "traceback": [
      "\u001b[1;31m---------------------------------------------------------------------------\u001b[0m",
      "\u001b[1;31mKeyboardInterrupt\u001b[0m                         Traceback (most recent call last)",
      "\u001b[1;32m~\\AppData\\Local\\Temp\\ipykernel_11636\\3014087467.py\u001b[0m in \u001b[0;36m<module>\u001b[1;34m\u001b[0m\n\u001b[1;32m----> 1\u001b[1;33m \u001b[0mhistory\u001b[0m \u001b[1;33m=\u001b[0m \u001b[0mmodel\u001b[0m\u001b[1;33m.\u001b[0m\u001b[0mfit\u001b[0m\u001b[1;33m(\u001b[0m\u001b[0mtrain_generator\u001b[0m\u001b[1;33m,\u001b[0m\u001b[0msteps_per_epoch\u001b[0m \u001b[1;33m=\u001b[0m \u001b[1;36m100\u001b[0m\u001b[1;33m,\u001b[0m\u001b[0mvalidation_data\u001b[0m \u001b[1;33m=\u001b[0m \u001b[0mvalidation_generator\u001b[0m\u001b[1;33m,\u001b[0m\u001b[0mvalidation_steps\u001b[0m\u001b[1;33m=\u001b[0m\u001b[1;36m50\u001b[0m\u001b[1;33m,\u001b[0m\u001b[0mepochs\u001b[0m\u001b[1;33m=\u001b[0m\u001b[1;36m100\u001b[0m\u001b[1;33m,\u001b[0m\u001b[0mcallbacks\u001b[0m\u001b[1;33m=\u001b[0m\u001b[0mcallbacks\u001b[0m\u001b[1;33m)\u001b[0m\u001b[1;33m\u001b[0m\u001b[1;33m\u001b[0m\u001b[0m\n\u001b[0m",
      "\u001b[1;32m~\\anaconda3\\lib\\site-packages\\keras\\utils\\traceback_utils.py\u001b[0m in \u001b[0;36merror_handler\u001b[1;34m(*args, **kwargs)\u001b[0m\n\u001b[0;32m     63\u001b[0m         \u001b[0mfiltered_tb\u001b[0m \u001b[1;33m=\u001b[0m \u001b[1;32mNone\u001b[0m\u001b[1;33m\u001b[0m\u001b[1;33m\u001b[0m\u001b[0m\n\u001b[0;32m     64\u001b[0m         \u001b[1;32mtry\u001b[0m\u001b[1;33m:\u001b[0m\u001b[1;33m\u001b[0m\u001b[1;33m\u001b[0m\u001b[0m\n\u001b[1;32m---> 65\u001b[1;33m             \u001b[1;32mreturn\u001b[0m \u001b[0mfn\u001b[0m\u001b[1;33m(\u001b[0m\u001b[1;33m*\u001b[0m\u001b[0margs\u001b[0m\u001b[1;33m,\u001b[0m \u001b[1;33m**\u001b[0m\u001b[0mkwargs\u001b[0m\u001b[1;33m)\u001b[0m\u001b[1;33m\u001b[0m\u001b[1;33m\u001b[0m\u001b[0m\n\u001b[0m\u001b[0;32m     66\u001b[0m         \u001b[1;32mexcept\u001b[0m \u001b[0mException\u001b[0m \u001b[1;32mas\u001b[0m \u001b[0me\u001b[0m\u001b[1;33m:\u001b[0m\u001b[1;33m\u001b[0m\u001b[1;33m\u001b[0m\u001b[0m\n\u001b[0;32m     67\u001b[0m             \u001b[0mfiltered_tb\u001b[0m \u001b[1;33m=\u001b[0m \u001b[0m_process_traceback_frames\u001b[0m\u001b[1;33m(\u001b[0m\u001b[0me\u001b[0m\u001b[1;33m.\u001b[0m\u001b[0m__traceback__\u001b[0m\u001b[1;33m)\u001b[0m\u001b[1;33m\u001b[0m\u001b[1;33m\u001b[0m\u001b[0m\n",
      "\u001b[1;32m~\\anaconda3\\lib\\site-packages\\keras\\engine\\training.py\u001b[0m in \u001b[0;36mfit\u001b[1;34m(self, x, y, batch_size, epochs, verbose, callbacks, validation_split, validation_data, shuffle, class_weight, sample_weight, initial_epoch, steps_per_epoch, validation_steps, validation_batch_size, validation_freq, max_queue_size, workers, use_multiprocessing)\u001b[0m\n\u001b[0;32m   1562\u001b[0m                         ):\n\u001b[0;32m   1563\u001b[0m                             \u001b[0mcallbacks\u001b[0m\u001b[1;33m.\u001b[0m\u001b[0mon_train_batch_begin\u001b[0m\u001b[1;33m(\u001b[0m\u001b[0mstep\u001b[0m\u001b[1;33m)\u001b[0m\u001b[1;33m\u001b[0m\u001b[1;33m\u001b[0m\u001b[0m\n\u001b[1;32m-> 1564\u001b[1;33m                             \u001b[0mtmp_logs\u001b[0m \u001b[1;33m=\u001b[0m \u001b[0mself\u001b[0m\u001b[1;33m.\u001b[0m\u001b[0mtrain_function\u001b[0m\u001b[1;33m(\u001b[0m\u001b[0miterator\u001b[0m\u001b[1;33m)\u001b[0m\u001b[1;33m\u001b[0m\u001b[1;33m\u001b[0m\u001b[0m\n\u001b[0m\u001b[0;32m   1565\u001b[0m                             \u001b[1;32mif\u001b[0m \u001b[0mdata_handler\u001b[0m\u001b[1;33m.\u001b[0m\u001b[0mshould_sync\u001b[0m\u001b[1;33m:\u001b[0m\u001b[1;33m\u001b[0m\u001b[1;33m\u001b[0m\u001b[0m\n\u001b[0;32m   1566\u001b[0m                                 \u001b[0mcontext\u001b[0m\u001b[1;33m.\u001b[0m\u001b[0masync_wait\u001b[0m\u001b[1;33m(\u001b[0m\u001b[1;33m)\u001b[0m\u001b[1;33m\u001b[0m\u001b[1;33m\u001b[0m\u001b[0m\n",
      "\u001b[1;32m~\\anaconda3\\lib\\site-packages\\tensorflow\\python\\util\\traceback_utils.py\u001b[0m in \u001b[0;36merror_handler\u001b[1;34m(*args, **kwargs)\u001b[0m\n\u001b[0;32m    148\u001b[0m     \u001b[0mfiltered_tb\u001b[0m \u001b[1;33m=\u001b[0m \u001b[1;32mNone\u001b[0m\u001b[1;33m\u001b[0m\u001b[1;33m\u001b[0m\u001b[0m\n\u001b[0;32m    149\u001b[0m     \u001b[1;32mtry\u001b[0m\u001b[1;33m:\u001b[0m\u001b[1;33m\u001b[0m\u001b[1;33m\u001b[0m\u001b[0m\n\u001b[1;32m--> 150\u001b[1;33m       \u001b[1;32mreturn\u001b[0m \u001b[0mfn\u001b[0m\u001b[1;33m(\u001b[0m\u001b[1;33m*\u001b[0m\u001b[0margs\u001b[0m\u001b[1;33m,\u001b[0m \u001b[1;33m**\u001b[0m\u001b[0mkwargs\u001b[0m\u001b[1;33m)\u001b[0m\u001b[1;33m\u001b[0m\u001b[1;33m\u001b[0m\u001b[0m\n\u001b[0m\u001b[0;32m    151\u001b[0m     \u001b[1;32mexcept\u001b[0m \u001b[0mException\u001b[0m \u001b[1;32mas\u001b[0m \u001b[0me\u001b[0m\u001b[1;33m:\u001b[0m\u001b[1;33m\u001b[0m\u001b[1;33m\u001b[0m\u001b[0m\n\u001b[0;32m    152\u001b[0m       \u001b[0mfiltered_tb\u001b[0m \u001b[1;33m=\u001b[0m \u001b[0m_process_traceback_frames\u001b[0m\u001b[1;33m(\u001b[0m\u001b[0me\u001b[0m\u001b[1;33m.\u001b[0m\u001b[0m__traceback__\u001b[0m\u001b[1;33m)\u001b[0m\u001b[1;33m\u001b[0m\u001b[1;33m\u001b[0m\u001b[0m\n",
      "\u001b[1;32m~\\anaconda3\\lib\\site-packages\\tensorflow\\python\\eager\\def_function.py\u001b[0m in \u001b[0;36m__call__\u001b[1;34m(self, *args, **kwds)\u001b[0m\n\u001b[0;32m    913\u001b[0m \u001b[1;33m\u001b[0m\u001b[0m\n\u001b[0;32m    914\u001b[0m       \u001b[1;32mwith\u001b[0m \u001b[0mOptionalXlaContext\u001b[0m\u001b[1;33m(\u001b[0m\u001b[0mself\u001b[0m\u001b[1;33m.\u001b[0m\u001b[0m_jit_compile\u001b[0m\u001b[1;33m)\u001b[0m\u001b[1;33m:\u001b[0m\u001b[1;33m\u001b[0m\u001b[1;33m\u001b[0m\u001b[0m\n\u001b[1;32m--> 915\u001b[1;33m         \u001b[0mresult\u001b[0m \u001b[1;33m=\u001b[0m \u001b[0mself\u001b[0m\u001b[1;33m.\u001b[0m\u001b[0m_call\u001b[0m\u001b[1;33m(\u001b[0m\u001b[1;33m*\u001b[0m\u001b[0margs\u001b[0m\u001b[1;33m,\u001b[0m \u001b[1;33m**\u001b[0m\u001b[0mkwds\u001b[0m\u001b[1;33m)\u001b[0m\u001b[1;33m\u001b[0m\u001b[1;33m\u001b[0m\u001b[0m\n\u001b[0m\u001b[0;32m    916\u001b[0m \u001b[1;33m\u001b[0m\u001b[0m\n\u001b[0;32m    917\u001b[0m       \u001b[0mnew_tracing_count\u001b[0m \u001b[1;33m=\u001b[0m \u001b[0mself\u001b[0m\u001b[1;33m.\u001b[0m\u001b[0mexperimental_get_tracing_count\u001b[0m\u001b[1;33m(\u001b[0m\u001b[1;33m)\u001b[0m\u001b[1;33m\u001b[0m\u001b[1;33m\u001b[0m\u001b[0m\n",
      "\u001b[1;32m~\\anaconda3\\lib\\site-packages\\tensorflow\\python\\eager\\def_function.py\u001b[0m in \u001b[0;36m_call\u001b[1;34m(self, *args, **kwds)\u001b[0m\n\u001b[0;32m    945\u001b[0m       \u001b[1;31m# In this case we have created variables on the first call, so we run the\u001b[0m\u001b[1;33m\u001b[0m\u001b[1;33m\u001b[0m\u001b[0m\n\u001b[0;32m    946\u001b[0m       \u001b[1;31m# defunned version which is guaranteed to never create variables.\u001b[0m\u001b[1;33m\u001b[0m\u001b[1;33m\u001b[0m\u001b[0m\n\u001b[1;32m--> 947\u001b[1;33m       \u001b[1;32mreturn\u001b[0m \u001b[0mself\u001b[0m\u001b[1;33m.\u001b[0m\u001b[0m_stateless_fn\u001b[0m\u001b[1;33m(\u001b[0m\u001b[1;33m*\u001b[0m\u001b[0margs\u001b[0m\u001b[1;33m,\u001b[0m \u001b[1;33m**\u001b[0m\u001b[0mkwds\u001b[0m\u001b[1;33m)\u001b[0m  \u001b[1;31m# pylint: disable=not-callable\u001b[0m\u001b[1;33m\u001b[0m\u001b[1;33m\u001b[0m\u001b[0m\n\u001b[0m\u001b[0;32m    948\u001b[0m     \u001b[1;32melif\u001b[0m \u001b[0mself\u001b[0m\u001b[1;33m.\u001b[0m\u001b[0m_stateful_fn\u001b[0m \u001b[1;32mis\u001b[0m \u001b[1;32mnot\u001b[0m \u001b[1;32mNone\u001b[0m\u001b[1;33m:\u001b[0m\u001b[1;33m\u001b[0m\u001b[1;33m\u001b[0m\u001b[0m\n\u001b[0;32m    949\u001b[0m       \u001b[1;31m# Release the lock early so that multiple threads can perform the call\u001b[0m\u001b[1;33m\u001b[0m\u001b[1;33m\u001b[0m\u001b[0m\n",
      "\u001b[1;32m~\\anaconda3\\lib\\site-packages\\tensorflow\\python\\eager\\function.py\u001b[0m in \u001b[0;36m__call__\u001b[1;34m(self, *args, **kwargs)\u001b[0m\n\u001b[0;32m   2494\u001b[0m       (graph_function,\n\u001b[0;32m   2495\u001b[0m        filtered_flat_args) = self._maybe_define_function(args, kwargs)\n\u001b[1;32m-> 2496\u001b[1;33m     return graph_function._call_flat(\n\u001b[0m\u001b[0;32m   2497\u001b[0m         filtered_flat_args, captured_inputs=graph_function.captured_inputs)  # pylint: disable=protected-access\n\u001b[0;32m   2498\u001b[0m \u001b[1;33m\u001b[0m\u001b[0m\n",
      "\u001b[1;32m~\\anaconda3\\lib\\site-packages\\tensorflow\\python\\eager\\function.py\u001b[0m in \u001b[0;36m_call_flat\u001b[1;34m(self, args, captured_inputs, cancellation_manager)\u001b[0m\n\u001b[0;32m   1860\u001b[0m         and executing_eagerly):\n\u001b[0;32m   1861\u001b[0m       \u001b[1;31m# No tape is watching; skip to running the function.\u001b[0m\u001b[1;33m\u001b[0m\u001b[1;33m\u001b[0m\u001b[0m\n\u001b[1;32m-> 1862\u001b[1;33m       return self._build_call_outputs(self._inference_function.call(\n\u001b[0m\u001b[0;32m   1863\u001b[0m           ctx, args, cancellation_manager=cancellation_manager))\n\u001b[0;32m   1864\u001b[0m     forward_backward = self._select_forward_and_backward_functions(\n",
      "\u001b[1;32m~\\anaconda3\\lib\\site-packages\\tensorflow\\python\\eager\\function.py\u001b[0m in \u001b[0;36mcall\u001b[1;34m(self, ctx, args, cancellation_manager)\u001b[0m\n\u001b[0;32m    497\u001b[0m       \u001b[1;32mwith\u001b[0m \u001b[0m_InterpolateFunctionError\u001b[0m\u001b[1;33m(\u001b[0m\u001b[0mself\u001b[0m\u001b[1;33m)\u001b[0m\u001b[1;33m:\u001b[0m\u001b[1;33m\u001b[0m\u001b[1;33m\u001b[0m\u001b[0m\n\u001b[0;32m    498\u001b[0m         \u001b[1;32mif\u001b[0m \u001b[0mcancellation_manager\u001b[0m \u001b[1;32mis\u001b[0m \u001b[1;32mNone\u001b[0m\u001b[1;33m:\u001b[0m\u001b[1;33m\u001b[0m\u001b[1;33m\u001b[0m\u001b[0m\n\u001b[1;32m--> 499\u001b[1;33m           outputs = execute.execute(\n\u001b[0m\u001b[0;32m    500\u001b[0m               \u001b[0mstr\u001b[0m\u001b[1;33m(\u001b[0m\u001b[0mself\u001b[0m\u001b[1;33m.\u001b[0m\u001b[0msignature\u001b[0m\u001b[1;33m.\u001b[0m\u001b[0mname\u001b[0m\u001b[1;33m)\u001b[0m\u001b[1;33m,\u001b[0m\u001b[1;33m\u001b[0m\u001b[1;33m\u001b[0m\u001b[0m\n\u001b[0;32m    501\u001b[0m               \u001b[0mnum_outputs\u001b[0m\u001b[1;33m=\u001b[0m\u001b[0mself\u001b[0m\u001b[1;33m.\u001b[0m\u001b[0m_num_outputs\u001b[0m\u001b[1;33m,\u001b[0m\u001b[1;33m\u001b[0m\u001b[1;33m\u001b[0m\u001b[0m\n",
      "\u001b[1;32m~\\anaconda3\\lib\\site-packages\\tensorflow\\python\\eager\\execute.py\u001b[0m in \u001b[0;36mquick_execute\u001b[1;34m(op_name, num_outputs, inputs, attrs, ctx, name)\u001b[0m\n\u001b[0;32m     52\u001b[0m   \u001b[1;32mtry\u001b[0m\u001b[1;33m:\u001b[0m\u001b[1;33m\u001b[0m\u001b[1;33m\u001b[0m\u001b[0m\n\u001b[0;32m     53\u001b[0m     \u001b[0mctx\u001b[0m\u001b[1;33m.\u001b[0m\u001b[0mensure_initialized\u001b[0m\u001b[1;33m(\u001b[0m\u001b[1;33m)\u001b[0m\u001b[1;33m\u001b[0m\u001b[1;33m\u001b[0m\u001b[0m\n\u001b[1;32m---> 54\u001b[1;33m     tensors = pywrap_tfe.TFE_Py_Execute(ctx._handle, device_name, op_name,\n\u001b[0m\u001b[0;32m     55\u001b[0m                                         inputs, attrs, num_outputs)\n\u001b[0;32m     56\u001b[0m   \u001b[1;32mexcept\u001b[0m \u001b[0mcore\u001b[0m\u001b[1;33m.\u001b[0m\u001b[0m_NotOkStatusException\u001b[0m \u001b[1;32mas\u001b[0m \u001b[0me\u001b[0m\u001b[1;33m:\u001b[0m\u001b[1;33m\u001b[0m\u001b[1;33m\u001b[0m\u001b[0m\n",
      "\u001b[1;31mKeyboardInterrupt\u001b[0m: "
     ]
    }
   ],
   "source": [
    "history = model.fit(train_generator,steps_per_epoch = 100,validation_data = validation_generator,validation_steps=50,epochs=100,callbacks=callbacks)"
   ]
  },
  {
   "cell_type": "code",
   "execution_count": null,
   "id": "8af95b17",
   "metadata": {},
   "outputs": [],
   "source": []
  }
 ],
 "metadata": {
  "kernelspec": {
   "display_name": "Python 3 (ipykernel)",
   "language": "python",
   "name": "python3"
  },
  "language_info": {
   "codemirror_mode": {
    "name": "ipython",
    "version": 3
   },
   "file_extension": ".py",
   "mimetype": "text/x-python",
   "name": "python",
   "nbconvert_exporter": "python",
   "pygments_lexer": "ipython3",
   "version": "3.9.13"
  }
 },
 "nbformat": 4,
 "nbformat_minor": 5
}
